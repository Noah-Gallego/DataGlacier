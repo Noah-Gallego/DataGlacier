{
 "cells": [
  {
   "cell_type": "code",
   "execution_count": 1,
   "id": "04742ad1-756b-458c-ad23-6990bb3561fa",
   "metadata": {},
   "outputs": [],
   "source": [
    "import time\n",
    "import pandas as pd\n",
    "import dask.dataframe as dd\n",
    "import modin.pandas as mpd\n",
    "import yaml\n",
    "import os"
   ]
  },
  {
   "cell_type": "code",
   "execution_count": 2,
   "id": "7d4a47bc-15fe-489c-a7e7-c809d3187165",
   "metadata": {
    "scrolled": true
   },
   "outputs": [
    {
     "name": "stdout",
     "output_type": "stream",
     "text": [
      "Time taken by pandas:  0.0066950321197509766  seconds\n",
      "Time taken by dask:  0.013063907623291016  seconds\n"
     ]
    }
   ],
   "source": [
    "file_path = \"Large-file.csv\"\n",
    "\n",
    "# Method 1: Pandas\n",
    "start_time = time.time()\n",
    "df_pandas = pd.read_csv(file_path)\n",
    "end_time = time.time()\n",
    "time_pandas = end_time - start_time\n",
    "print(\"Time taken by pandas: \", time_pandas, \" seconds\")\n",
    "\n",
    "# Method 2: Dask\n",
    "start_time = time.time()\n",
    "df_dask = dd.read_csv(file_path)\n",
    "df_dask.compute()\n",
    "end_time = time.time()\n",
    "time_dask = end_time - start_time\n",
    "print(\"Time taken by dask: \", time_dask, \" seconds\")\n",
    "\n",
    "# Method 3: Modin\n",
    "# start_time = time.time()\n",
    "# df_modin = mpd.read_csv(file_path)\n",
    "# end_time = time.time()\n",
    "# time_modin = end_time = start_time\n",
    "# print(\"Time taken by Modin: \", time_modin, \" seconds\") \n",
    "\n",
    "# NOTE ====> MODIN IS BROKE"
   ]
  },
  {
   "cell_type": "code",
   "execution_count": 4,
   "id": "d798939b-7589-406a-b690-1e6d7d2051a1",
   "metadata": {},
   "outputs": [],
   "source": [
    "# Perform basic validation on data coluns\n",
    "\n",
    "df = pd.read_csv(file_path)\n",
    "\n",
    "# Remove special characters from column names\n",
    "df.columns = df.columns.str.replace('[^a-zA-Z0-9]+', '_')\n",
    "\n",
    "# Remove whitespaces from column names\n",
    "df.columns = df.columns.str.strip().str.lower()\n",
    "\n",
    "# Check for missing values in each column\n",
    "missing_values = df.isnull().sum()\n",
    "\n",
    "# Check for duplicates\n",
    "duplicates = df[df.duplicated()]"
   ]
  },
  {
   "cell_type": "code",
   "execution_count": 5,
   "id": "67b31108-e904-4f9b-aa72-3aa631434d82",
   "metadata": {},
   "outputs": [
    {
     "name": "stdout",
     "output_type": "stream",
     "text": [
      "['index', 'ean', 'internal id', 'stock', 'price']\n"
     ]
    }
   ],
   "source": [
    "# Get all the columns\n",
    "all_cols = df.columns.tolist()\n",
    "\n",
    "# Print the columns\n",
    "print(all_cols)"
   ]
  },
  {
   "cell_type": "code",
   "execution_count": 9,
   "id": "dc3b0fe3-8383-4c29-acd1-c71d5bc2b949",
   "metadata": {},
   "outputs": [
    {
     "name": "stdout",
     "output_type": "stream",
     "text": [
      "Error: Invalid schema file. 'columns' values should be a list\n"
     ]
    }
   ],
   "source": [
    "# Validating number of columns and column name of ingested file with YAML\n",
    "\n",
    "import yaml\n",
    "\n",
    "with open('data_types.yaml', 'r') as f:\n",
    "    schema = yaml.safe_load(f)\n",
    "\n",
    "if 'columns' not in schema:\n",
    "    print(\"Error: Invalid schema file :( 'columns' key is missing.\")\n",
    "elif not isinstance(schema['columns'], list):\n",
    "    print(\"Error: Invalid schema file. 'columns' values should be a list\")\n",
    "else: \n",
    "    if len(df.columns) != len(schema['columns']):\n",
    "        print(\"Error: Number of columns in the file does not match the schema.\")\n",
    "    else:\n",
    "        for i, col in enumerate(df.columns):\n",
    "            if col != schema['columns'][i]:\n",
    "                print(f\"Error: Column {i + 1} doesn't match the schema.\")"
   ]
  },
  {
   "cell_type": "code",
   "execution_count": 10,
   "id": "2cd7cd65-dc1d-41a7-8e8a-72f8eae0d195",
   "metadata": {},
   "outputs": [],
   "source": [
    "subset_df = df.iloc[:1000] # Selecting first 1000 rows for less complexity\n",
    "subset_df.to_csv('output_file.csv.gz', sep = '|', compression = 'gzip', index = False)"
   ]
  },
  {
   "cell_type": "code",
   "execution_count": 11,
   "id": "1d387b12-2e01-41ff-8e2a-820de0346e1b",
   "metadata": {},
   "outputs": [
    {
     "name": "stdout",
     "output_type": "stream",
     "text": [
      "Total number of rows: 5000\n",
      "Total number of columns: 5\n",
      "File size: 14792 bytes\n"
     ]
    }
   ],
   "source": [
    "# Get the file size\n",
    "file_size = os.path.getsize('output_file.csv.gz')\n",
    "\n",
    "num_rows = len(df)\n",
    "num_cols = len(df.columns)\n",
    "\n",
    "print(f\"Total number of rows: {num_rows}\")\n",
    "print(f\"Total number of columns: {num_cols}\")\n",
    "print(f\"File size: {file_size} bytes\")"
   ]
  },
  {
   "cell_type": "code",
   "execution_count": null,
   "id": "8ac0d628-e8f2-4571-b579-78a06bcc997d",
   "metadata": {},
   "outputs": [],
   "source": []
  }
 ],
 "metadata": {
  "kernelspec": {
   "display_name": "Python 3 (ipykernel)",
   "language": "python",
   "name": "python3"
  },
  "language_info": {
   "codemirror_mode": {
    "name": "ipython",
    "version": 3
   },
   "file_extension": ".py",
   "mimetype": "text/x-python",
   "name": "python",
   "nbconvert_exporter": "python",
   "pygments_lexer": "ipython3",
   "version": "3.9.6"
  }
 },
 "nbformat": 4,
 "nbformat_minor": 5
}
